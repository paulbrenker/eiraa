{
 "cells": [
  {
   "cell_type": "markdown",
   "id": "effcbad4-b2c0-4856-8a5c-5657d4d7674e",
   "metadata": {},
   "source": [
    "## Cloud sync\n",
    "\n",
    "Um zu prüfen, ob zwei Dateien identisch sind verwenden wir den Algorithmus, der in der Vorlesung vorgestellt wurde."
   ]
  },
  {
   "cell_type": "markdown",
   "id": "f6e62309-867c-4bcd-beb9-cd62df483815",
   "metadata": {},
   "source": [
    "Hilfreiche Imports und Definitionen"
   ]
  },
  {
   "cell_type": "code",
   "execution_count": 2,
   "id": "6708ab18-e07e-43bf-a64c-e53317ccf2ec",
   "metadata": {},
   "outputs": [],
   "source": [
    "from random import randint,getrandbits\n",
    "import numpy as np\n",
    "import pickle\n",
    "\n",
    "Byte = 8\n",
    "KB   = 1024*Byte\n",
    "MB   = 1024*KB\n",
    "GB   = 1024*MB"
   ]
  },
  {
   "cell_type": "markdown",
   "id": "c5f82a2c-6587-426c-8d99-19e7134904fc",
   "metadata": {},
   "source": [
    "Funktionen, um große Datenblöcke zu generierren"
   ]
  },
  {
   "cell_type": "code",
   "execution_count": 3,
   "id": "c0bb377f-5ca5-4382-a3be-6cd05fc004c6",
   "metadata": {},
   "outputs": [],
   "source": [
    "def generate_data(size):\n",
    "    return randint(0,2**size)\n",
    "\n",
    "def write_data(data, filename='db'):\n",
    "    with open(filename, 'wb') as file:\n",
    "        pickle.dump(data, file)\n",
    "        file.close()\n",
    "        \n",
    "def read_data(filename='db'):\n",
    "    with open(filename, 'rb') as file:\n",
    "        return pickle.load(file)\n",
    "    \n",
    "def flush_data():\n",
    "    write_data(None)"
   ]
  },
  {
   "cell_type": "code",
   "execution_count": 4,
   "id": "1f9288c1-0071-4bda-bb8e-e1520f9d523a",
   "metadata": {},
   "outputs": [],
   "source": [
    "x=generate_data(1*MB)"
   ]
  },
  {
   "cell_type": "markdown",
   "id": "eb86db5c-5202-404f-8922-578e8b8bff67",
   "metadata": {},
   "source": [
    "Die folgende Funktion modifiziert eine Stelle der Dezimaldarstellung einer Zahl"
   ]
  },
  {
   "cell_type": "code",
   "execution_count": 5,
   "id": "92105e3d-12fd-4b82-9aac-3298ac43250a",
   "metadata": {},
   "outputs": [],
   "source": [
    "def modify_random_digit(data):\n",
    "    s = str(data)\n",
    "    i = randint(0, len(s)-1)\n",
    "    return int(s[:i]+chr(ord('0')+(int(s[i])+1)%10)+s[i+1:])"
   ]
  },
  {
   "cell_type": "markdown",
   "id": "32756983-b75a-4143-b2e4-bfc74e9233d7",
   "metadata": {},
   "source": [
    "testen ..."
   ]
  },
  {
   "cell_type": "code",
   "execution_count": 6,
   "id": "2e2c81db-52b8-4b45-834a-d5c934385353",
   "metadata": {},
   "outputs": [
    {
     "data": {
      "text/plain": [
       "223456789"
      ]
     },
     "execution_count": 6,
     "metadata": {},
     "output_type": "execute_result"
    }
   ],
   "source": [
    "modify_random_digit(123456789)"
   ]
  },
  {
   "cell_type": "markdown",
   "id": "71634e7c-bd6a-4bdf-90ed-9aad6688b0d1",
   "metadata": {},
   "source": [
    "Wir kreieren nun eine Funktion um eine gegeben Anzahl an Kopien eines Datensatzes zu erzeugen"
   ]
  },
  {
   "cell_type": "code",
   "execution_count": 7,
   "id": "06df1503-b6f3-4671-b8bc-49b0e8df6af5",
   "metadata": {},
   "outputs": [],
   "source": [
    "def create_copies(file, num_copies):\n",
    "    data=read_data(file)\n",
    "    rand_binary_list = [randint(0, 1) for b in range(1, num_copies+1)]\n",
    "    \n",
    "    for modify in range(len(rand_binary_list)):\n",
    "        if rand_binary_list[modify]:\n",
    "            new_data = modify_random_digit(data)\n",
    "            write_data(new_data, filename='db'+str(modify))\n",
    "        else:\n",
    "            write_data(data, filename='db'+str(modify))\n",
    "    return rand_binary_list"
   ]
  },
  {
   "cell_type": "markdown",
   "id": "0f1b6de0-eab4-445d-b7ad-80d9fdb7b5c9",
   "metadata": {},
   "source": [
    "#### Ein paar Tests, um die Laufzeit zu testen"
   ]
  },
  {
   "cell_type": "code",
   "execution_count": 8,
   "id": "f9c547d0-c39c-4089-8751-ec1307108de8",
   "metadata": {},
   "outputs": [
    {
     "name": "stdout",
     "output_type": "stream",
     "text": [
      "23 ms ± 1.48 ms per loop (mean ± std. dev. of 10 runs, 1 loop each)\n"
     ]
    }
   ],
   "source": [
    "# For testing\n",
    "%timeit -n1 -r10 generate_data(size=1*MB)"
   ]
  },
  {
   "cell_type": "code",
   "execution_count": 9,
   "id": "564256b3-0301-40bf-9e32-64f580acbe1e",
   "metadata": {},
   "outputs": [
    {
     "data": {
      "text/plain": [
       "4657352486374832172769555068157995466397650377382934991438744100342579363170396312546009532088895819738842094981183868994821619356463894683121217861079187156078862641700111172078211954773991586830271525258215501090465668508958624996778802087"
      ]
     },
     "metadata": {},
     "output_type": "display_data"
    },
    {
     "data": {
      "text/plain": [
       "'10110010110011100110001001000111101110000010011010101010010000010110001101111101001001011101001000111010000010001110010010011001101111110100001011010101000010111111011000101011100000110101110001110111011100011101110111100111001000101011010111100001001100001010100101011100000001010101011010001001000101001011100001110100110000001011001111010101010110111111011000001001110011111100101110001001111101111001110010000100111001110001101000100011011011100000000110001111110101110001010000001001110010010010011110111001011111110101101010101011101010010000111110100010010100001000100110100111011011011010110101001011001111011001000011100100100000011001110110011011110100000101001010100000000111010001010000111000010101001010001111111000000000111011101010110111111001011010110001011010101111110111101110100111'"
      ]
     },
     "metadata": {},
     "output_type": "display_data"
    }
   ],
   "source": [
    "d = generate_data(size=100*Byte); \n",
    "display(d)\n",
    "display('{:b}'.format(d))"
   ]
  },
  {
   "cell_type": "code",
   "execution_count": 10,
   "id": "d492d168-1c73-4b34-b1fe-062f8f00d16c",
   "metadata": {},
   "outputs": [
    {
     "name": "stdout",
     "output_type": "stream",
     "text": [
      "The slowest run took 160.64 times longer than the fastest. This could mean that an intermediate result is being cached.\n",
      "669 µs ± 1.86 ms per loop (mean ± std. dev. of 10 runs, 1 loop each)\n"
     ]
    }
   ],
   "source": [
    "# For testing\n",
    "%timeit -n1 -r10 write_data(d)"
   ]
  },
  {
   "cell_type": "code",
   "execution_count": 11,
   "id": "942afc26-e42b-42e7-995d-9a2def5edf6f",
   "metadata": {},
   "outputs": [],
   "source": [
    "write_data(d)"
   ]
  },
  {
   "cell_type": "code",
   "execution_count": 12,
   "id": "e6ac8556-cb4d-4921-83be-31ac30758304",
   "metadata": {},
   "outputs": [
    {
     "name": "stdout",
     "output_type": "stream",
     "text": [
      "The slowest run took 6.61 times longer than the fastest. This could mean that an intermediate result is being cached.\n",
      "4.91 µs ± 4.16 µs per loop (mean ± std. dev. of 10 runs, 1 loop each)\n"
     ]
    }
   ],
   "source": [
    "# For testing\n",
    "%timeit -n1 -r10 modify_random_digit(d)"
   ]
  },
  {
   "cell_type": "code",
   "execution_count": 13,
   "id": "5ea6cafe-be78-4ce9-8bd0-704c3cf7466f",
   "metadata": {},
   "outputs": [
    {
     "data": {
      "text/plain": [
       "4657352486374832172769555068157995466397650377482934991438744100342579363170396312546009532088895819738842094981183868994821619356463894683121217861079187156078862641700111172078211954773991586830271525258215501090465668508958624996778802087"
      ]
     },
     "metadata": {},
     "output_type": "display_data"
    },
    {
     "data": {
      "text/plain": [
       "-100000000000000000000000000000000000000000000000000000000000000000000000000000000000000000000000000000000000000000000000000000000000000000000000000000000000000000000000000000000000000000000000000"
      ]
     },
     "execution_count": 13,
     "metadata": {},
     "output_type": "execute_result"
    }
   ],
   "source": [
    "d1 = modify_random_digit(d); display(d1)\n",
    "d-d1"
   ]
  },
  {
   "cell_type": "code",
   "execution_count": 14,
   "id": "92463c1c-ca57-4a2f-9f5c-d79fa1c2fc8a",
   "metadata": {},
   "outputs": [
    {
     "name": "stdout",
     "output_type": "stream",
     "text": [
      "The slowest run took 24.69 times longer than the fastest. This could mean that an intermediate result is being cached.\n",
      "667 µs ± 1.24 ms per loop (mean ± std. dev. of 10 runs, 1 loop each)\n"
     ]
    }
   ],
   "source": [
    "# For testing\n",
    "%timeit -n1 -r10 create_copies('db', num_copies=5)"
   ]
  },
  {
   "cell_type": "markdown",
   "id": "d044278c-74f0-4d62-a3d1-35238df584b3",
   "metadata": {},
   "source": [
    "modify_copy = create_copies('db', num_copies=5)\n",
    "print('modified copies: ', modify_copy)"
   ]
  },
  {
   "cell_type": "markdown",
   "id": "eb21a5f4-b336-46ef-8f08-72e4f7ce89b6",
   "metadata": {},
   "source": [
    "#### Erzeugung von Zahlen, die mit hoher Wahrscheinlichkeit prim sind\n",
    "(Implementierung hier <http://www.inf.fh-flensburg.de/lang/krypto/algo/primtest.htm> geklaut)\n",
    "implementiere einen einfachen Fermat-Test"
   ]
  },
  {
   "cell_type": "code",
   "execution_count": 15,
   "id": "597a4509-dde8-4b8e-ac42-628e0211840d",
   "metadata": {},
   "outputs": [],
   "source": [
    "import numpy as np\n",
    "import pdb\n",
    "\n",
    "def binary(e):\n",
    "    return bin(e)[2:]\n",
    "\n",
    "def modexp(m, e, n):\n",
    "    s=1\n",
    "    for b in binary(e):\n",
    "        s=s*s % n\n",
    "        #pdb.set_trace()\n",
    "        if b==\"1\":\n",
    "            s=s*m % n\n",
    "            #pdb.set_trace()\n",
    "    return s\n",
    "\n",
    "def isCompositeSimpleFermat(n):\n",
    "    '''\n",
    "    Returns true if n is definitely composite.\n",
    "    If returns false, then n is a prime number with a high probability.\n",
    "    '''\n",
    "    return modexp(2, n-1, n) != 1"
   ]
  },
  {
   "cell_type": "markdown",
   "id": "c2886e70-cd65-4c33-8219-49de5a8df4eb",
   "metadata": {},
   "source": [
    "Nun können wir Funktionen definieren, die prüfen, ob eine Zahl zusammengesetzt oder prim ist (mit hoher W-keit)"
   ]
  },
  {
   "cell_type": "code",
   "execution_count": 16,
   "id": "53f61a3a-a4d3-40f9-9dde-e16d19964f0d",
   "metadata": {},
   "outputs": [],
   "source": [
    "def isComposite(n):\n",
    "    return isCompositeSimpleFermat(n)\n",
    "\n",
    "def generateProbablePrim(n):\n",
    "    while True:\n",
    "        x=randint(0,n)\n",
    "        if not isComposite(x) :\n",
    "            return x"
   ]
  },
  {
   "cell_type": "markdown",
   "id": "eb4659ba-f9fb-4d7b-8adf-88d3d550bdf2",
   "metadata": {},
   "source": [
    "... und testen dies"
   ]
  },
  {
   "cell_type": "code",
   "execution_count": 17,
   "id": "fbe8497f-9611-4679-8774-e1062381cfc0",
   "metadata": {},
   "outputs": [
    {
     "data": {
      "text/plain": [
       "2112701038346654523893"
      ]
     },
     "metadata": {},
     "output_type": "display_data"
    },
    {
     "data": {
      "text/plain": [
       "False"
      ]
     },
     "metadata": {},
     "output_type": "display_data"
    },
    {
     "data": {
      "text/plain": [
       "True"
      ]
     },
     "metadata": {},
     "output_type": "display_data"
    }
   ],
   "source": [
    "x=generateProbablePrim((10*GB)**2)\n",
    "display(x)\n",
    "display(isComposite(x))\n",
    "\n",
    "display(isComposite(x+1))"
   ]
  },
  {
   "cell_type": "markdown",
   "id": "d180eebe-cc8b-48e1-ac0b-3e179238396e",
   "metadata": {},
   "source": [
    "### Aufgaben:\n",
    "\n",
    "1. Implementieren Sie den Cloud Syncing Algorithmus, der in der letzten Vorlesung präsentiert wurde.\n",
    "1. Erzeugen Sie Datenblöcke unterschiedlicher Größe und evaluieren Sie Ihre Implementierung\n",
    "1. Verifizieren Sie die theoretische Fehlerwahrscheinlichkeit Ihres Algorithmus (mit kleinen Datenbanken!)\n",
    "1. Plotten Sie das theoretische gegen das experimentelle Ergebnis"
   ]
  },
  {
   "cell_type": "markdown",
   "id": "ac4bdb77-c8c4-494f-b358-20a9a0600457",
   "metadata": {},
   "source": [
    "#### 1)\n",
    "Implementierung Cloud Sync Algorithmus"
   ]
  },
  {
   "cell_type": "code",
   "execution_count": 18,
   "id": "16d5d096-69c3-4675-8db7-cbe666aa946a",
   "metadata": {},
   "outputs": [],
   "source": [
    "def create_checksum(x):\n",
    "    n = x.bit_length()**2\n",
    "    p = generateProbablePrim(n)\n",
    "    s = x % p\n",
    "    return s,p\n",
    "\n",
    "def validate_checksum(x, p, s):\n",
    "    return s == x % p"
   ]
  },
  {
   "cell_type": "markdown",
   "id": "9c84f01e-6cbe-4254-a837-f8fab84e067f",
   "metadata": {},
   "source": [
    "#### 2)\n",
    "Evaluierung (Test) des Cloud Syncing Algorithmus"
   ]
  },
  {
   "cell_type": "code",
   "execution_count": 19,
   "id": "d50f05e3-18fc-428a-b527-09e71e85abf5",
   "metadata": {},
   "outputs": [],
   "source": [
    "# build differently sized data blocks and test algorithm correctnes and runtime\n",
    "results_1 =[]\n",
    "#create Bytesized Datablocks\n",
    "for i in range(1,100):\n",
    "    write_data(generate_data(i*Byte))\n",
    "    s, p = create_checksum(read_data())\n",
    "    b = validate_checksum(read_data(),p,s)\n",
    "    results_1.append((read_data().bit_length(),b))\n",
    "#create Kilobyte sized Datablocks\n",
    "for i in range(1,10):\n",
    "    write_data(generate_data(i*KB))\n",
    "    s, p = create_checksum(read_data())\n",
    "    b = validate_checksum(read_data(),p,s)\n",
    "    results_1.append((read_data().bit_length(),b))\n",
    "#create Megabyte sized Datablocks\n",
    "for i in range(1,3):\n",
    "    write_data(generate_data(i*MB))\n",
    "    s, p = create_checksum(read_data())\n",
    "    b = validate_checksum(read_data(),p,s)\n",
    "    results_1.append((read_data().bit_length(),b))\n"
   ]
  },
  {
   "cell_type": "code",
   "execution_count": 20,
   "id": "4856c007-dd9c-4687-9dc2-d9947d213e5a",
   "metadata": {},
   "outputs": [
    {
     "name": "stdout",
     "output_type": "stream",
     "text": [
      "Es wurden 0 falsch negative Ergebnisse gefunden\n"
     ]
    }
   ],
   "source": [
    "#testet alle Ergebnisse, ob falsch negative Ereignisse auftreten\n",
    "lst_1 = []\n",
    "for result in results_1:\n",
    "    if result[1] == False:\n",
    "        lst_1.append(result)\n",
    "print('Es wurden ' +str(len(lst_1))+' falsch negative Ergebnisse gefunden')"
   ]
  },
  {
   "cell_type": "code",
   "execution_count": 21,
   "id": "1694c004-8916-42dc-89f4-e11082df591c",
   "metadata": {},
   "outputs": [],
   "source": [
    "# build once again data blocks and manipulate random representative to test false negatives\n",
    "results_2 = []\n",
    "for i in range(1,100):\n",
    "    write_data(generate_data(i*Byte))\n",
    "    s, p = create_checksum(read_data())\n",
    "    write_data(modify_random_digit(read_data()))\n",
    "    b = validate_checksum(read_data(),p,s)\n",
    "    results_2.append((read_data().bit_length(),b))\n",
    "#create Kilobyte sized Datablocks\n",
    "for i in range(1,10):\n",
    "    write_data(generate_data(i*KB))\n",
    "    s, p = create_checksum(read_data())\n",
    "    write_data(modify_random_digit(read_data()))\n",
    "    b = validate_checksum(read_data(),p,s)\n",
    "    results_2.append((read_data().bit_length(),b))\n",
    "    #create Megabyte sized Datablocks\n",
    "for i in range(1,1):\n",
    "    write_data(generate_data(i*MB))\n",
    "    s, p = create_checksum(read_data())\n",
    "    write_data(modify_random_digit(read_data()))\n",
    "    b = validate_checksum(read_data(),p,s)\n",
    "    results_2.append((read_data().bit_length(),b))\n"
   ]
  },
  {
   "cell_type": "code",
   "execution_count": 22,
   "id": "13f60a5a-566f-4732-8c3a-5816ecf47c44",
   "metadata": {},
   "outputs": [
    {
     "name": "stdout",
     "output_type": "stream",
     "text": [
      "Es wurden 0 falsch positive Ergebnisse gefunden\n"
     ]
    }
   ],
   "source": [
    "#testet alle Ergebnisse, ob falsch negative Ereignisse auftreten\n",
    "lst_2 = []\n",
    "for result in results_2:\n",
    "    if result[1] == True:\n",
    "        lst_2.append(result)\n",
    "print('Es wurden ' +str(len(lst_2))+' falsch positive Ergebnisse gefunden')"
   ]
  },
  {
   "cell_type": "markdown",
   "id": "9132a762-9763-4ca4-9e3c-edab55f86dce",
   "metadata": {},
   "source": [
    "#### 3)\n",
    "Theoretische Fehlerwahrscheinlichkeit gegen Algorithmus Fehlerwahrscheinlichkeit.\n",
    "\n",
    "Theoretische Fehlerwahrscheinlichkeit:\n",
    "\n",
    "\n",
    "$$\n",
    "    \\small\n",
    "    \\text{n = Laenge des zu pruefenden Datenblocks.}\\\\\n",
    "    p=\\frac{2\\ln(2^{n})}{2^{n}}\n",
    "$$"
   ]
  },
  {
   "cell_type": "code",
   "execution_count": 23,
   "id": "66b35490-bbfa-412b-b590-812d4a2a6669",
   "metadata": {},
   "outputs": [
    {
     "name": "stdout",
     "output_type": "stream",
     "text": [
      "Insgesamt sind 0 falsche Ergebnisse aufgetreten\n"
     ]
    }
   ],
   "source": [
    "import numpy as np\n",
    "import math\n",
    "#Funktion in Abhaengigkeit der Laenge des Datenblocks ausrechnen. \n",
    "theo = [2 * math.log2(2**n)/(2**n) for n in [2**m for m in range(1,6)]]\n",
    "#Dann ausprobieren mit 2) Evaluierung des Algorithmus\n",
    "lst_1 = lst_1 + lst_2\n",
    "print('Insgesamt sind ' +str(len(lst_1))+' falsche Ergebnisse aufgetreten')"
   ]
  },
  {
   "cell_type": "markdown",
   "id": "858a35f6-3dae-43e8-b8f8-694d07db5cdd",
   "metadata": {},
   "source": [
    "#### 4)\n",
    "Ergebnisse aus 3) plotten"
   ]
  },
  {
   "cell_type": "code",
   "execution_count": 29,
   "id": "895e4eeb-24a7-4e69-a828-e7c364c960d2",
   "metadata": {},
   "outputs": [
    {
     "data": {
      "image/png": "[encoded data removed]",
      "text/plain": [
       "<Figure size 432x288 with 1 Axes>"
      ]
     },
     "metadata": {
      "needs_background": "light"
     },
     "output_type": "display_data"
    }
   ],
   "source": [
    "import matplotlib.pyplot as plt\n",
    "plt.plot([2**m for m in range(1,6)],theo)\n",
    "plt.title('Fehlerwahrscheinlichkeit in Abhängigkeit der Datengröße')\n",
    "plt.xlabel('n Länge des Datenblocks')\n",
    "plt.ylabel('$\\epsilon$ = theoretische Fehlerw-keit')\n",
    "plt.grid(True)\n",
    "plt.show()"
   ]
  },
  {
   "cell_type": "code",
   "execution_count": null,
   "id": "0fa19915-28a4-4f23-914b-5d4002bbbf82",
   "metadata": {},
   "outputs": [],
   "source": [
    "flush_data() #eventuelle große Dateien löschen"
   ]
  },
  {
   "cell_type": "code",
   "execution_count": null,
   "id": "a45c9fad-568d-42aa-b147-1a2eafc87353",
   "metadata": {},
   "outputs": [],
   "source": []
  }
 ],
 "metadata": {
  "kernelspec": {
   "display_name": "Python 3 (ipykernel)",
   "language": "python",
   "name": "python3"
  },
  "language_info": {
   "codemirror_mode": {
    "name": "ipython",
    "version": 3
   },
   "file_extension": ".py",
   "mimetype": "text/x-python",
   "name": "python",
   "nbconvert_exporter": "python",
   "pygments_lexer": "ipython3",
   "version": "3.10.6"
  }
 },
 "nbformat": 4,
 "nbformat_minor": 5
}
