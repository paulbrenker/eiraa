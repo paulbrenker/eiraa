{
 "cells": [
  {
   "cell_type": "code",
   "execution_count": 2,
   "id": "63e694fd-8cc9-4298-bbfd-8358b776290f",
   "metadata": {},
   "outputs": [],
   "source": [
    "import matplotlib.pyplot as plt\n",
    "import numpy as np"
   ]
  },
  {
   "cell_type": "code",
   "execution_count": null,
   "id": "25c9fa48-c3f9-4a7c-abea-6262041da8f5",
   "metadata": {},
   "outputs": [],
   "source": [
    "complex_array = np.complex_array()\n",
    "complex_array = np.arange_()"
   ]
  }
 ],
 "metadata": {
  "kernelspec": {
   "display_name": "Python 3 (ipykernel)",
   "language": "python",
   "name": "python3"
  },
  "language_info": {
   "codemirror_mode": {
    "name": "ipython",
    "version": 3
   },
   "file_extension": ".py",
   "mimetype": "text/x-python",
   "name": "python",
   "nbconvert_exporter": "python",
   "pygments_lexer": "ipython3",
   "version": "3.10.6"
  }
 },
 "nbformat": 4,
 "nbformat_minor": 5
}
